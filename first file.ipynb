{
 "cells": [
  {
   "cell_type": "code",
   "execution_count": 2,
   "metadata": {},
   "outputs": [
    {
     "name": "stdout",
     "output_type": "stream",
     "text": [
      "Result is 0.26785714285714285\n"
     ]
    }
   ],
   "source": [
    "x=5\n",
    "y=(2*x+5)/(x*x+5*x+6)\n",
    "print(\"Result is\",y)"
   ]
  },
  {
   "cell_type": "code",
   "execution_count": 3,
   "metadata": {},
   "outputs": [
    {
     "name": "stdout",
     "output_type": "stream",
     "text": [
      "Result is 3.7333333333333334\n"
     ]
    }
   ],
   "source": [
    "x=5\n",
    "y=(x*x+5*x+6)/(2*x+5)\n",
    "print(\"Result is\",y)"
   ]
  },
  {
   "cell_type": "code",
   "execution_count": 4,
   "metadata": {},
   "outputs": [
    {
     "name": "stdout",
     "output_type": "stream",
     "text": [
      "Result is 98\n"
     ]
    }
   ],
   "source": [
    "y=(x+9)*(2*x-3)\n",
    "print(\"Result is\",y)"
   ]
  },
  {
   "cell_type": "code",
   "execution_count": 1,
   "metadata": {},
   "outputs": [
    {
     "name": "stdout",
     "output_type": "stream",
     "text": [
      "Enter correct username and password combo to continue\n",
      "Enter username: INDIA\n",
      "Enter password: IND\n",
      "Access granted\n"
     ]
    }
   ],
   "source": [
    "count=0\n",
    "while count < 5:\n",
    "    username = input('Enter username: ')\n",
    "    if username==\"INDIA\":\n",
    "        c=0\n",
    "        while c<5:\n",
    "            password = input('Enter password: ')\n",
    "            if password=='IND' and username=='INDIA':\n",
    "                print('Access granted')\n",
    "                count=6\n",
    "                break\n",
    "            else:\n",
    "                print('Access denied. Enter correct password.')\n",
    "                c=c+1\n",
    "        else:\n",
    "            print(\"try again after 24 hrs\")\n",
    "            count=6\n",
    "    else:\n",
    "        print('Enter correct username')\n",
    "    count += 1\n",
    "else:\n",
    "    if count==5:\n",
    "        print(\"try again after 24 hrs\")"
   ]
  },
  {
   "cell_type": "raw",
   "metadata": {},
   "source": []
  }
 ],
 "metadata": {
  "kernelspec": {
   "display_name": "Python 3",
   "language": "python",
   "name": "python3"
  },
  "language_info": {
   "codemirror_mode": {
    "name": "ipython",
    "version": 3
   },
   "file_extension": ".py",
   "mimetype": "text/x-python",
   "name": "python",
   "nbconvert_exporter": "python",
   "pygments_lexer": "ipython3",
   "version": "3.7.6"
  }
 },
 "nbformat": 4,
 "nbformat_minor": 4
}
